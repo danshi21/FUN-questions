{
 "cells": [
  {
   "cell_type": "markdown",
   "metadata": {},
   "source": [
    "### Question :\n",
    "    Given a string of numbers s and k=number of commas, find the max number that is possible when inserting k number \n",
    "    of commas in the string.\n",
    "#### Constraints :\n",
    "    0<= k <= len(s)-1"
   ]
  },
  {
   "cell_type": "code",
   "execution_count": 1,
   "metadata": {},
   "outputs": [],
   "source": [
    "def get_max(s,k):\n",
    "    m=-9999\n",
    "    if k> len(s)-1 or k<0:\n",
    "        return \"wrong input for k\"\n",
    "    elif k==0:\n",
    "        return int(s)\n",
    "    elif k==1:\n",
    "        m=max(int(s[1:]),int(s[:-1]))\n",
    "    elif k==(len(s)-1):\n",
    "        m=max(list(map(int,list(s))))\n",
    "    else :\n",
    "        i=0\n",
    "        w=len(s)-k\n",
    "        while (i+w-1)<=(len(s)-1):\n",
    "            if int(s[i:i+w])>=m:\n",
    "                m=int(s[i:i+w])\n",
    "            i+=1\n",
    "    return m"
   ]
  },
  {
   "cell_type": "code",
   "execution_count": 74,
   "metadata": {},
   "outputs": [
    {
     "name": "stdout",
     "output_type": "stream",
     "text": [
      "string is : 978496\n",
      "number of commas is : -1\n",
      "max number possible : wrong input for k\n",
      "number of commas is : 0\n",
      "max number possible : 978496\n",
      "number of commas is : 1\n",
      "max number possible : 97849\n",
      "number of commas is : 2\n",
      "max number possible : 9784\n",
      "number of commas is : 3\n",
      "max number possible : 978\n",
      "number of commas is : 4\n",
      "max number possible : 97\n",
      "number of commas is : 5\n",
      "max number possible : 9\n",
      "number of commas is : 6\n",
      "max number possible : wrong input for k\n",
      "number of commas is : 7\n",
      "max number possible : wrong input for k\n"
     ]
    }
   ],
   "source": [
    "s='978496'\n",
    "print(\"string is :\",s)\n",
    "for k in range(-1,len(s)+2):\n",
    "    print(\"number of commas is :\",k)\n",
    "    print(\"max number possible :\",get_max(s,k))"
   ]
  },
  {
   "cell_type": "code",
   "execution_count": 2,
   "metadata": {},
   "outputs": [
    {
     "name": "stdout",
     "output_type": "stream",
     "text": [
      "string is : 9981245\n",
      "number of commas is : -1\n",
      "max number possible : wrong input for k\n",
      "number of commas is : 0\n",
      "max number possible : 9981245\n",
      "number of commas is : 1\n",
      "max number possible : 998124\n",
      "number of commas is : 2\n",
      "max number possible : 99812\n",
      "number of commas is : 3\n",
      "max number possible : 9981\n",
      "number of commas is : 4\n",
      "max number possible : 998\n",
      "number of commas is : 5\n",
      "max number possible : 99\n",
      "number of commas is : 6\n",
      "max number possible : 9\n",
      "number of commas is : 7\n",
      "max number possible : wrong input for k\n",
      "number of commas is : 8\n",
      "max number possible : wrong input for k\n"
     ]
    }
   ],
   "source": [
    "s='9981245'\n",
    "print(\"string is :\",s)\n",
    "for k in range(-1,len(s)+2):\n",
    "    print(\"number of commas is :\",k)\n",
    "    print(\"max number possible :\",get_max(s,k))"
   ]
  }
 ],
 "metadata": {
  "kernelspec": {
   "display_name": "Python 3",
   "language": "python",
   "name": "python3"
  },
  "language_info": {
   "codemirror_mode": {
    "name": "ipython",
    "version": 3
   },
   "file_extension": ".py",
   "mimetype": "text/x-python",
   "name": "python",
   "nbconvert_exporter": "python",
   "pygments_lexer": "ipython3",
   "version": "3.7.1"
  }
 },
 "nbformat": 4,
 "nbformat_minor": 2
}
